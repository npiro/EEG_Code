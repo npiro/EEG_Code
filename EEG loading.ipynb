{
 "cells": [
  {
   "cell_type": "code",
   "execution_count": 1,
   "metadata": {
    "collapsed": false
   },
   "outputs": [],
   "source": [
    "%matplotlib inline\n",
    "import scipy.io\n",
    "from os.path import join\n",
    "import glob\n",
    "from matplotlib.pyplot import *\n",
    "import seaborn\n",
    "import numpy as np\n",
    "folder = 'train_1/'\n",
    "files = glob.glob(join(folder,'1_*_1.mat'))\n"
   ]
  },
  {
   "cell_type": "code",
   "execution_count": 2,
   "metadata": {
    "collapsed": false
   },
   "outputs": [
    {
     "data": {
      "text/plain": [
       "'1_16_1'"
      ]
     },
     "execution_count": 2,
     "metadata": {},
     "output_type": "execute_result"
    }
   ],
   "source": [
    "import re\n",
    "pattern = '1_(\\w+?)_1'\n",
    "strings = ['1_16_1.mat','1_15_1.mat']\n",
    "result = re.match(pattern, strings[0])\n",
    "result.group()"
   ]
  },
  {
   "cell_type": "code",
   "execution_count": 3,
   "metadata": {
    "collapsed": true
   },
   "outputs": [],
   "source": [
    "data = []\n",
    "for i, f in enumerate(files):\n",
    "    mat = scipy.io.loadmat(f)\n",
    "    dataStruct=mat['dataStruct']\n",
    "    data.extend(dataStruct['data'][0,0].tolist())\n",
    "    if i >= 9: break\n",
    "data = np.array(data)"
   ]
  },
  {
   "cell_type": "code",
   "execution_count": 2,
   "metadata": {
    "collapsed": false
   },
   "outputs": [
    {
     "data": {
      "text/plain": [
       "['train_1/1_100_1.mat',\n",
       " 'train_1/1_101_1.mat',\n",
       " 'train_1/1_102_1.mat',\n",
       " 'train_1/1_103_1.mat',\n",
       " 'train_1/1_104_1.mat',\n",
       " 'train_1/1_105_1.mat',\n",
       " 'train_1/1_106_1.mat',\n",
       " 'train_1/1_107_1.mat',\n",
       " 'train_1/1_108_1.mat',\n",
       " 'train_1/1_109_1.mat',\n",
       " 'train_1/1_10_1.mat',\n",
       " 'train_1/1_110_1.mat',\n",
       " 'train_1/1_111_1.mat',\n",
       " 'train_1/1_112_1.mat',\n",
       " 'train_1/1_113_1.mat',\n",
       " 'train_1/1_114_1.mat',\n",
       " 'train_1/1_115_1.mat',\n",
       " 'train_1/1_116_1.mat',\n",
       " 'train_1/1_117_1.mat',\n",
       " 'train_1/1_118_1.mat',\n",
       " 'train_1/1_119_1.mat',\n",
       " 'train_1/1_11_1.mat',\n",
       " 'train_1/1_120_1.mat',\n",
       " 'train_1/1_121_1.mat',\n",
       " 'train_1/1_122_1.mat',\n",
       " 'train_1/1_123_1.mat',\n",
       " 'train_1/1_124_1.mat',\n",
       " 'train_1/1_125_1.mat',\n",
       " 'train_1/1_126_1.mat',\n",
       " 'train_1/1_127_1.mat',\n",
       " 'train_1/1_128_1.mat',\n",
       " 'train_1/1_129_1.mat',\n",
       " 'train_1/1_12_1.mat',\n",
       " 'train_1/1_130_1.mat',\n",
       " 'train_1/1_131_1.mat',\n",
       " 'train_1/1_132_1.mat',\n",
       " 'train_1/1_133_1.mat',\n",
       " 'train_1/1_134_1.mat',\n",
       " 'train_1/1_135_1.mat',\n",
       " 'train_1/1_136_1.mat',\n",
       " 'train_1/1_137_1.mat',\n",
       " 'train_1/1_138_1.mat',\n",
       " 'train_1/1_139_1.mat',\n",
       " 'train_1/1_13_1.mat',\n",
       " 'train_1/1_140_1.mat',\n",
       " 'train_1/1_141_1.mat',\n",
       " 'train_1/1_142_1.mat',\n",
       " 'train_1/1_143_1.mat',\n",
       " 'train_1/1_144_1.mat',\n",
       " 'train_1/1_145_1.mat',\n",
       " 'train_1/1_146_1.mat',\n",
       " 'train_1/1_147_1.mat',\n",
       " 'train_1/1_148_1.mat',\n",
       " 'train_1/1_149_1.mat',\n",
       " 'train_1/1_14_1.mat',\n",
       " 'train_1/1_150_1.mat',\n",
       " 'train_1/1_15_1.mat',\n",
       " 'train_1/1_16_1.mat',\n",
       " 'train_1/1_17_1.mat',\n",
       " 'train_1/1_18_1.mat',\n",
       " 'train_1/1_19_1.mat',\n",
       " 'train_1/1_1_1.mat',\n",
       " 'train_1/1_20_1.mat',\n",
       " 'train_1/1_21_1.mat',\n",
       " 'train_1/1_22_1.mat',\n",
       " 'train_1/1_23_1.mat',\n",
       " 'train_1/1_24_1.mat',\n",
       " 'train_1/1_25_1.mat',\n",
       " 'train_1/1_26_1.mat',\n",
       " 'train_1/1_27_1.mat',\n",
       " 'train_1/1_28_1.mat',\n",
       " 'train_1/1_29_1.mat',\n",
       " 'train_1/1_2_1.mat',\n",
       " 'train_1/1_30_1.mat',\n",
       " 'train_1/1_31_1.mat',\n",
       " 'train_1/1_32_1.mat',\n",
       " 'train_1/1_33_1.mat',\n",
       " 'train_1/1_34_1.mat',\n",
       " 'train_1/1_35_1.mat',\n",
       " 'train_1/1_36_1.mat',\n",
       " 'train_1/1_37_1.mat',\n",
       " 'train_1/1_38_1.mat',\n",
       " 'train_1/1_39_1.mat',\n",
       " 'train_1/1_3_1.mat',\n",
       " 'train_1/1_40_1.mat',\n",
       " 'train_1/1_41_1.mat',\n",
       " 'train_1/1_42_1.mat',\n",
       " 'train_1/1_43_1.mat',\n",
       " 'train_1/1_44_1.mat',\n",
       " 'train_1/1_45_1.mat',\n",
       " 'train_1/1_46_1.mat',\n",
       " 'train_1/1_47_1.mat',\n",
       " 'train_1/1_48_1.mat',\n",
       " 'train_1/1_49_1.mat',\n",
       " 'train_1/1_4_1.mat',\n",
       " 'train_1/1_50_1.mat',\n",
       " 'train_1/1_51_1.mat',\n",
       " 'train_1/1_52_1.mat',\n",
       " 'train_1/1_53_1.mat',\n",
       " 'train_1/1_54_1.mat',\n",
       " 'train_1/1_55_1.mat',\n",
       " 'train_1/1_56_1.mat',\n",
       " 'train_1/1_57_1.mat',\n",
       " 'train_1/1_58_1.mat',\n",
       " 'train_1/1_59_1.mat',\n",
       " 'train_1/1_5_1.mat',\n",
       " 'train_1/1_60_1.mat',\n",
       " 'train_1/1_61_1.mat',\n",
       " 'train_1/1_62_1.mat',\n",
       " 'train_1/1_63_1.mat',\n",
       " 'train_1/1_64_1.mat',\n",
       " 'train_1/1_65_1.mat',\n",
       " 'train_1/1_66_1.mat',\n",
       " 'train_1/1_67_1.mat',\n",
       " 'train_1/1_68_1.mat',\n",
       " 'train_1/1_69_1.mat',\n",
       " 'train_1/1_6_1.mat',\n",
       " 'train_1/1_70_1.mat',\n",
       " 'train_1/1_71_1.mat',\n",
       " 'train_1/1_72_1.mat',\n",
       " 'train_1/1_73_1.mat',\n",
       " 'train_1/1_74_1.mat',\n",
       " 'train_1/1_75_1.mat',\n",
       " 'train_1/1_76_1.mat',\n",
       " 'train_1/1_77_1.mat',\n",
       " 'train_1/1_78_1.mat',\n",
       " 'train_1/1_79_1.mat',\n",
       " 'train_1/1_7_1.mat',\n",
       " 'train_1/1_80_1.mat',\n",
       " 'train_1/1_81_1.mat',\n",
       " 'train_1/1_82_1.mat',\n",
       " 'train_1/1_83_1.mat',\n",
       " 'train_1/1_84_1.mat',\n",
       " 'train_1/1_85_1.mat',\n",
       " 'train_1/1_86_1.mat',\n",
       " 'train_1/1_87_1.mat',\n",
       " 'train_1/1_88_1.mat',\n",
       " 'train_1/1_89_1.mat',\n",
       " 'train_1/1_8_1.mat',\n",
       " 'train_1/1_90_1.mat',\n",
       " 'train_1/1_91_1.mat',\n",
       " 'train_1/1_92_1.mat',\n",
       " 'train_1/1_93_1.mat',\n",
       " 'train_1/1_94_1.mat',\n",
       " 'train_1/1_95_1.mat',\n",
       " 'train_1/1_96_1.mat',\n",
       " 'train_1/1_97_1.mat',\n",
       " 'train_1/1_98_1.mat',\n",
       " 'train_1/1_99_1.mat',\n",
       " 'train_1/1_9_1.mat']"
      ]
     },
     "execution_count": 2,
     "metadata": {},
     "output_type": "execute_result"
    }
   ],
   "source": [
    "files"
   ]
  },
  {
   "cell_type": "code",
   "execution_count": 6,
   "metadata": {
    "collapsed": false
   },
   "outputs": [],
   "source": [
    "data = dataStruct['data'][0,0]"
   ]
  },
  {
   "cell_type": "code",
   "execution_count": 7,
   "metadata": {
    "collapsed": false
   },
   "outputs": [
    {
     "data": {
      "text/plain": [
       "(480000, 16)"
      ]
     },
     "execution_count": 7,
     "metadata": {},
     "output_type": "execute_result"
    }
   ],
   "source": [
    "d = []\n",
    "d.extend(data.tolist())\n",
    "d.extend(data.tolist())\n",
    "np.array(d).shape"
   ]
  },
  {
   "cell_type": "code",
   "execution_count": 8,
   "metadata": {
    "collapsed": false
   },
   "outputs": [
    {
     "data": {
      "text/plain": [
       "[<matplotlib.lines.Line2D at 0x12d0aedd8>]"
      ]
     },
     "execution_count": 8,
     "metadata": {},
     "output_type": "execute_result"
    },
    {
     "data": {
      "image/png": "[encoded data removed]",
      "text/plain": [
       "<matplotlib.figure.Figure at 0x1063d7f60>"
      ]
     },
     "metadata": {},
     "output_type": "display_data"
    }
   ],
   "source": [
    "plot(data[:,10])"
   ]
  },
  {
   "cell_type": "code",
   "execution_count": null,
   "metadata": {
    "collapsed": true
   },
   "outputs": [],
   "source": []
  }
 ],
 "metadata": {
  "anaconda-cloud": {},
  "kernelspec": {
   "display_name": "Python [Root]",
   "language": "python",
   "name": "Python [Root]"
  },
  "language_info": {
   "codemirror_mode": {
    "name": "ipython",
    "version": 3
   },
   "file_extension": ".py",
   "mimetype": "text/x-python",
   "name": "python",
   "nbconvert_exporter": "python",
   "pygments_lexer": "ipython3",
   "version": "3.5.2"
  }
 },
 "nbformat": 4,
 "nbformat_minor": 0
}
